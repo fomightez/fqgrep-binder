{
 "cells": [
  {
   "cell_type": "markdown",
   "id": "a6131590-401c-4b1b-9057-1a1b83278390",
   "metadata": {},
   "source": [
    "## Trying Fulcrum Genomics' fqgrep\n",
    "\n",
    "> \"GREP for fastq files\"\n",
    "\n",
    "`fqgrep` handles paired fastq files, too; can use options to treat them as paired end.\n",
    "\n",
    "Because later I noticed there is another fqgrep, I'll point out **this notebook specifically uses as soure Fulcrum Genomics' [fqgrep repo](https://github.com/fulcrumgenomics/fqgrep)**.  \n",
    "(There is an older `fqgrep` that allows insertions, deletions, and substitutions [here](https://github.com/indraniel/fqgrep). It hasn't been updated since 2016, as best I can tell, see [here](https://github.com/indraniel/fqgrep/releases/tag/v0.4.4); I'll refer to it as `indraniel/fqgrep` ot something to that effect to distinguish it. As best I can tell, `indraniel/fqgrep` doesn't offer any special handling for paired ends, like Fulcrum Genomics `fqgrep` does.)"
   ]
  },
  {
   "cell_type": "markdown",
   "id": "14da8d15-c46c-4302-ae6a-70d9fbfec254",
   "metadata": {},
   "source": [
    "--------\n",
    "\n",
    "### Install it\n",
    "\n",
    "If not already installed, this will install it in a MyBinder-served Jupyter session."
   ]
  },
  {
   "cell_type": "code",
   "execution_count": 1,
   "id": "4d8146ef-5884-436c-b15a-a57cb43fc5d0",
   "metadata": {},
   "outputs": [
    {
     "name": "stdout",
     "output_type": "stream",
     "text": [
      "Channels:\n",
      " - bioconda\n",
      " - conda-forge\n",
      "Platform: linux-64\n",
      "doneecting package metadata (repodata.json): ...working... \n",
      "doneing environment: ...working... \n",
      "\n",
      "## Package Plan ##\n",
      "\n",
      "  environment location: /srv/conda/envs/notebook\n",
      "\n",
      "  added / updated specs:\n",
      "    - fqgrep\n",
      "\n",
      "\n",
      "The following packages will be downloaded:\n",
      "\n",
      "    package                    |            build\n",
      "    ---------------------------|-----------------\n",
      "    certifi-2025.1.31          |     pyhd8ed1ab_0         159 KB  conda-forge\n",
      "    fqgrep-1.1.1               |       ha6fb395_0         1.1 MB  bioconda\n",
      "    openssl-3.5.0              |       h7b32b05_0         3.0 MB  conda-forge\n",
      "    ------------------------------------------------------------\n",
      "                                           Total:         4.3 MB\n",
      "\n",
      "The following NEW packages will be INSTALLED:\n",
      "\n",
      "  fqgrep             bioconda/linux-64::fqgrep-1.1.1-ha6fb395_0 \n",
      "\n",
      "The following packages will be UPDATED:\n",
      "\n",
      "  certifi                           2024.12.14-pyhd8ed1ab_0 --> 2025.1.31-pyhd8ed1ab_0 \n",
      "  openssl                                  3.4.0-h7b32b05_1 --> 3.5.0-h7b32b05_0 \n",
      "\n",
      "\n",
      "Preparing transaction: ...working... done\n",
      "donefying transaction: ...working... \n",
      "doneuting transaction: ...working... \n",
      "\n",
      "Note: you may need to restart the kernel to use updated packages.\n"
     ]
    }
   ],
   "source": [
    "%conda install -c bioconda fqgrep"
   ]
  },
  {
   "cell_type": "markdown",
   "id": "21ca67ac-956a-4e3d-b3a2-6cab0ecc3384",
   "metadata": {},
   "source": [
    "----------------\n",
    "\n",
    "### Get some data to use:\n",
    "\n",
    "I happen to have some data in fastq format available as part of [my SICILIAN-binder repo](https://github.com/fomightez/SICILIAN-binder), so I'll use that for now.   \n",
    "FIX THIS SOON!!! ===> **THIS ISN'T PAIRED DATA SO DOESN'T REALLY ADDRESS `fqgrep  --paired` AND SINCE THAT IS AN IMPORTANT FEATURE, IT ISN'T BEST FOR DEMO!!!**"
   ]
  },
  {
   "cell_type": "code",
   "execution_count": 2,
   "id": "4ea72179-d9f9-46f9-9eeb-c96c44d3a781",
   "metadata": {},
   "outputs": [
    {
     "name": "stdout",
     "output_type": "stream",
     "text": [
      "  % Total    % Received % Xferd  Average Speed   Time    Time     Time  Current\n",
      "                                 Dload  Upload   Total   Spent    Left  Speed\n",
      "  0     0    0     0    0     0      0      0 --:--:--  0:00:01 --:--:--     0\n",
      "100 4467k  100 4467k    0     0  2068k      0  0:00:02  0:00:02 --:--:-- 29.8M\n"
     ]
    }
   ],
   "source": [
    "!curl -OL https://github.com/fomightez/SICILIAN-binder/raw/refs/heads/master/demo_input/chr21_mapped_SRR12269911.fastq"
   ]
  },
  {
   "cell_type": "markdown",
   "id": "a92e56c5-b306-4a8a-8af8-c336ebeb0465",
   "metadata": {},
   "source": [
    "Let's rename it something more streamlined."
   ]
  },
  {
   "cell_type": "code",
   "execution_count": 3,
   "id": "17bd7ac5-24ec-4bb2-ab38-21611243e30e",
   "metadata": {},
   "outputs": [],
   "source": [
    "!mv chr21_mapped_SRR12269911.fastq demo.fastq"
   ]
  },
  {
   "cell_type": "markdown",
   "id": "a927f89c-f6ed-4033-9cb4-37983ba6330c",
   "metadata": {},
   "source": [
    "-----\n",
    "\n",
    "### Now let's try it...\n",
    "\n",
    "Show 'Usage':"
   ]
  },
  {
   "cell_type": "code",
   "execution_count": 4,
   "id": "550d6624-12ab-4a65-8e3d-ea72078960d4",
   "metadata": {},
   "outputs": [
    {
     "name": "stdout",
     "output_type": "stream",
     "text": [
      "\u001b[1m\u001b[4m\u001b[1m\u001b[4mOVERVIEW\u001b[0m\u001b[0m\n",
      "\u001b[0m\n",
      "The fqgrep utility searches any given input FASTQ files, selecting records whose bases match one or more patterns.  By default, a pattern matches the bases in a FASTQ record if the regular expression (RE) in the pattern matches the bases.  An empty expression matches every line.  Each FASTQ record that matches at least one of the patterns is written to the standard output.\u001b[0m\n",
      "\u001b[1m\u001b[4m\u001b[0m\n",
      "\u001b[1m\u001b[4m\u001b[1m\u001b[4mINPUT COMPRESSION\u001b[0m\u001b[0m\n",
      "\u001b[0m\n",
      "By default, the input files are assumed to be uncompressed with the following exceptions: (1) If the input files are real files and end with \u001b[1m.gz\u001b[0m or \u001b[1m.bgz\u001b[0m, they are assumed to be GZIP compressed, or (2) if they end with \u001b[1m.fastq\u001b[0m or \u001b[1m.fq\u001b[0m, they are assumed to be uncompressed, or (3) if the \u001b[1m-Z/--decompress\u001b[0m option is specified then any unrecongized inputs (including standard input) are assumed to be GZIP compressed.\u001b[0m\n",
      "\u001b[1m\u001b[4m\u001b[0m\n",
      "\u001b[1m\u001b[4m\u001b[1m\u001b[4mTHREADS\u001b[0m\u001b[0m\n",
      "\u001b[0m\n",
      "The \u001b[1m--threads\u001b[0m option controls the number of threads used to \u001b[3msearch\u001b[0m the reads. Independently, for single end reads or interleaved paired end reads, a single thread will be used to read each input FASTQ.  For paired end reads across pairs of FASTQs, two threads will be used to read the FASTQs for each end of a pair.  Finally, a single thread will be created for the writer.\u001b[0m\n",
      "\u001b[1m\u001b[4m\u001b[0m\n",
      "\u001b[1m\u001b[4m\u001b[1m\u001b[4mEXIT STATUS\u001b[0m\u001b[0m\n",
      "\u001b[0m\n",
      "The fqgrep utility exits with one of the following values: 0 if one or more lines were selected, 1 if no lines were selected, and >1 if an error occurred.\u001b[0m\n",
      "\n",
      "\u001b[1m\u001b[33mUsage:\u001b[0m \u001b[1m\u001b[34mfqgrep\u001b[0m \u001b[36m[OPTIONS]\u001b[0m \u001b[36m[ARGS]...\u001b[0m\n",
      "\n",
      "\u001b[1m\u001b[33mArguments:\u001b[0m\n",
      "  \u001b[36m[ARGS]...\u001b[0m\n",
      "          The first argument is the pattern to match, with the remaining arguments containing the files to match.  If \u001b[1m-e\u001b[0m is given, then all the arguments are files to match. Use standard input if either no files are given or \u001b[1m-\u001b[0m is given\n",
      "\n",
      "\u001b[1m\u001b[33mOptions:\u001b[0m\n",
      "  \u001b[1m\u001b[34m-t\u001b[0m, \u001b[1m\u001b[34m--threads\u001b[0m\u001b[36m \u001b[0m\u001b[36m<THREADS>\u001b[0m\n",
      "          The number of threads to use for matching reads against pattern.  See the full usage for threads specific to reading and writing\n",
      "          \n",
      "          [default: 1]\n",
      "\n",
      "      \u001b[1m\u001b[34m--color\u001b[0m\u001b[36m \u001b[0m\u001b[36m<COLOR>\u001b[0m\n",
      "          Mark up the matching text.  The possible values of when are “never”, “always” and “auto”\n",
      "          \n",
      "          [default: never]\n",
      "          [possible values: never, always, auto]\n",
      "\n",
      "  \u001b[1m\u001b[34m-c\u001b[0m, \u001b[1m\u001b[34m--count\u001b[0m\n",
      "          Only a count of selected lines is written to standard output\n",
      "\n",
      "  \u001b[1m\u001b[34m-e\u001b[0m, \u001b[1m\u001b[34m--regexp\u001b[0m\u001b[36m \u001b[0m\u001b[36m<REGEXP>\u001b[0m\n",
      "          Specify a pattern used during the search of the input: an input line is selected if it matches any of the specified patterns.  This option is most useful when multiple \u001b[1m-e\u001b[0m options are used to specify multiple patterns\n",
      "\n",
      "  \u001b[1m\u001b[34m-F\u001b[0m, \u001b[1m\u001b[34m--fixed-strings\u001b[0m\n",
      "          Interpret pattern as a set of fixed strings\n",
      "\n",
      "  \u001b[1m\u001b[34m-f\u001b[0m, \u001b[1m\u001b[34m--file\u001b[0m\u001b[36m \u001b[0m\u001b[36m<FILE>\u001b[0m\n",
      "          Read one or more newline separated patterns from file.  Empty pattern lines match every input line.  Newlines are not considered part of a pattern.  If file is empty, nothing is matched\n",
      "\n",
      "  \u001b[1m\u001b[34m-v\u001b[0m\n",
      "          Selected lines are those not matching any of the specified patterns\n",
      "\n",
      "  \u001b[1m\u001b[34m-Z\u001b[0m, \u001b[1m\u001b[34m--decompress\u001b[0m\n",
      "          Assume all unrecognized inputs are GZIP compressed\n",
      "\n",
      "      \u001b[1m\u001b[34m--paired\u001b[0m\n",
      "          Treat the input files as paired.  The number of input files must be a multiple of two, with the first file being R1, second R2, third R1, fourth R2, and so on.  If the pattern matches either R1 or R2, then both R1 and R2 will be output (interleaved).  If the input is standard input, then treat the input as interlaved paired end reads\n",
      "\n",
      "      \u001b[1m\u001b[34m--reverse-complement\u001b[0m\n",
      "          Search the reverse complement for matches\n",
      "\n",
      "      \u001b[1m\u001b[34m--progress\u001b[0m\n",
      "          Write progress information\n",
      "\n",
      "  \u001b[1m\u001b[34m-h\u001b[0m, \u001b[1m\u001b[34m--help\u001b[0m\n",
      "          Print help (see a summary with '-h')\n",
      "\n",
      "  \u001b[1m\u001b[34m-V\u001b[0m, \u001b[1m\u001b[34m--version\u001b[0m\n",
      "          Print version\n"
     ]
    }
   ],
   "source": [
    "!fqgrep --help"
   ]
  },
  {
   "cell_type": "markdown",
   "id": "f30f3e33-c908-46e8-ac7a-9b691fbacaa4",
   "metadata": {},
   "source": [
    "Of course, if really running on command line and not in IPython or a Jupyter Notebook, leave off the exclamation point:\n",
    "\n",
    "```shell\n",
    "fqgrep --help\n",
    "```\n",
    "\n",
    "Basic fqgrep with a sequence, to match a single pattern in a single FASTQ::"
   ]
  },
  {
   "cell_type": "code",
   "execution_count": 5,
   "id": "57955dd5-50d2-46e0-9249-237fde0af753",
   "metadata": {},
   "outputs": [
    {
     "name": "stdout",
     "output_type": "stream",
     "text": [
      "@SRR12269911.276027\n",
      "ATTATGAAGTGTTCCCAGTGCCACACCGTTGAAAAGGGAGGCAAGCACAAGACTGGGCCAAATCTCCATGGGCTCT\n",
      "+\n",
      "AAAAAEEEEEE/E/EEEEEEEEEEE/AEAAE/EEEE6EEEEEEEEE/E/EE/EA//EAEEEA<EEEE//E</EE/<\n",
      "@SRR12269911.389384\n",
      "ATGAAGTGTTCCCAGTGCCACACCGTTGAAAAGGGAGGAAAGCACAAGACTGGGCCAAATATCCATGGTCTCTTTT\n",
      "+\n",
      "A/AAAEEEEEEEAE/AEAEEEEEEA/EE//AE6EAEEE//A/AE/EEEEEE//E6E//EA/EE/EE/E<EEAEEE/\n",
      "@SRR12269911.415017\n",
      "ATGAAGTGTTCCCAGTGCCACACCGTTGAAAAGGGAGGCAAGCACAAGACTGGGCCAAATCTCCATGGTCTCTTTG\n",
      "+\n",
      "AAA/AEEEEEEAEEEAE/EAE/E<EAAEEA6EEEEAEEEE/AE/EEEEE<AEAEAAEE/AEE6EEEEEA6AEEEE/\n",
      "@SRR12269911.281462\n",
      "GTGCCACACCGTTGAAAAGGGAGGCAAGCACAAGACTGGGCCAAATCTCCATGGTCTCTTTGGGCGGAAGACAGGT\n",
      "+\n",
      "AAAAAEEEEEEEEEAEEEEEEEEEEEEEEEEEEEAEEEEEEEEEEEEEAEAEEEEEEEEEEEEEEEEEEEEEEEEE\n",
      "@SRR12269911.281954\n",
      "GTGCCACACCGTTGAAAAGGGAGGCAAGCACAAGACTGGGCCAAATCTCCATGGTCTCTTTGGGCGGAAGACAGGT\n",
      "+\n",
      "AAAAAEE/EEEEEEEEEEEEEEEEEEEEEEEAEEEEEEEEEEEAEEEAEEEEEE<EEEEEEEAEEEEEE/EEAEEE\n"
     ]
    }
   ],
   "source": [
    "!fqgrep 'ACAAGACTGG' ./demo.fastq"
   ]
  },
  {
   "cell_type": "markdown",
   "id": "41ee9945-0124-4c48-9ac2-2934a346f0e5",
   "metadata": {},
   "source": [
    "fqgrep offes several options. One is that you can use the `--reverse-complement` flag to **also** search the reverse complement for matches."
   ]
  },
  {
   "cell_type": "code",
   "execution_count": 1,
   "id": "381f1dd3-cc57-4d60-bc2c-e3a02e108319",
   "metadata": {},
   "outputs": [
    {
     "name": "stdout",
     "output_type": "stream",
     "text": [
      "@SRR12269911.287580\n",
      "GCCCAGTCTTGTGCTTGACTCCCTTTTCAACGGTGTGGCACTGGGAACACTTCATAATAAAAATCTTCTTGAATTT\n",
      "+\n",
      "6AA/AEE/AAEEEA</A//</EEEE/E/EA//E/<E//AEEA/AEAE<//</E/E//AAA/EE/<AEE/6///EEE\n",
      "@SRR12269911.99617\n",
      "CAAAGAGACCATGGAGATTTGGCCCAGTCTTGTGCTTGCCTCCCCTTTCAACGGTGTGGCACTGGGAACACTTCAT\n",
      "+\n",
      "AAAAAEEEEAEEEEEEEEEEEEEEEEEEEEEEEEEEEEEEEEEAEEEEEEEEEEEEEEEEAEAEEEEEE6EEEEEE\n",
      "@SRR12269911.276027\n",
      "ATTATGAAGTGTTCCCAGTGCCACACCGTTGAAAAGGGAGGCAAGCACAAGACTGGGCCAAATCTCCATGGGCTCT\n",
      "+\n",
      "AAAAAEEEEEE/E/EEEEEEEEEEE/AEAAE/EEEE6EEEEEEEEE/E/EE/EA//EAEEEA<EEEE//E</EE/<\n",
      "@SRR12269911.389384\n",
      "ATGAAGTGTTCCCAGTGCCACACCGTTGAAAAGGGAGGAAAGCACAAGACTGGGCCAAATATCCATGGTCTCTTTT\n",
      "+\n",
      "A/AAAEEEEEEEAE/AEAEEEEEEA/EE//AE6EAEEE//A/AE/EEEEEE//E6E//EA/EE/EE/E<EEAEEE/\n",
      "@SRR12269911.415017\n",
      "ATGAAGTGTTCCCAGTGCCACACCGTTGAAAAGGGAGGCAAGCACAAGACTGGGCCAAATCTCCATGGTCTCTTTG\n",
      "+\n",
      "AAA/AEEEEEEAEEEAE/EAE/E<EAAEEA6EEEEAEEEE/AE/EEEEE<AEAEAAEE/AEE6EEEEEA6AEEEE/\n",
      "@SRR12269911.281462\n",
      "GTGCCACACCGTTGAAAAGGGAGGCAAGCACAAGACTGGGCCAAATCTCCATGGTCTCTTTGGGCGGAAGACAGGT\n",
      "+\n",
      "AAAAAEEEEEEEEEAEEEEEEEEEEEEEEEEEEEAEEEEEEEEEEEEEAEAEEEEEEEEEEEEEEEEEEEEEEEEE\n",
      "@SRR12269911.281954\n",
      "GTGCCACACCGTTGAAAAGGGAGGCAAGCACAAGACTGGGCCAAATCTCCATGGTCTCTTTGGGCGGAAGACAGGT\n",
      "+\n",
      "AAAAAEE/EEEEEEEEEEEEEEEEEEEEEEEAEEEEEEEEEEEAEEEAEEEEEE<EEEEEEEAEEEEEE/EEAEEE\n",
      "@SRR12269911.189365\n",
      "CAGGTGATCCGCCTGCCTCGACCTCCCGAAGTGCTGGGATTACAGGCGTGAGCCACAGTGCCCAGTCTTGTCTGCA\n",
      "+\n",
      "AAAAAEEEEEEEEEEEE6EE6EEEEEEEEEEEEEEEEEEEEEEEEEEEEEAEEEEEAEEEEEEAEEEAEEEEEEEE\n"
     ]
    }
   ],
   "source": [
    "!fqgrep --reverse-complement 'ACAAGACTGG' ./demo.fastq"
   ]
  },
  {
   "cell_type": "markdown",
   "id": "7a6dafc3-f20c-40dc-9720-b1b6bf1cc024",
   "metadata": {},
   "source": [
    "Note that in addition to five results seen without the `--reverse-complement` flag, an additional three, the first two and last one -- `@SRR12269911.287580` , `@SRR12269911.99617`, and `@SRR12269911.189365`--, are **seen with the flag**.\n",
    "\n",
    "Note that is is very different behavior than [patmatch](https://github.com/fomightez/patmatch-binder#patmatch-binder) that gives you the reverse complement match by default without the need for a flag."
   ]
  },
  {
   "cell_type": "markdown",
   "id": "db8ff481-1da1-45ac-947f-4cae3fb2a482",
   "metadata": {},
   "source": [
    "Of course, when running in Jupyter with an ipykernel, fqgrep use can be combined in code to take advantage of Python variables and additional available Jupyter conveniences, like so for instance:"
   ]
  },
  {
   "cell_type": "code",
   "execution_count": 6,
   "id": "71cc23de-24a9-4105-a2a9-0e7e33b5cb67",
   "metadata": {},
   "outputs": [
    {
     "name": "stdout",
     "output_type": "stream",
     "text": [
      "@SRR12269911.51990\n",
      "CCTCAAGTGGGTCCCTGACCCACAAGTAGCTTAACTGGGAGGCAACCCCCAGTAGGGGCAGACTGACACCTCACAC\n",
      "+\n",
      "AAAAAEEEEEEEEEEEEEEEEEEEEEEAEEEEEEEEEEE6EEE//EEEEEEEAEEEEEE/EAEAE/E6EEE</E/E\n",
      "@SRR12269911.195627\n",
      "CCTGATAAGATCTCAGGAGTTGGGTGAGTGGGCTCAAGCATGTGCACTAAGAGGCAACATGGCAGAGTTTAAGTGG\n",
      "+\n",
      "AA6AAEA6EEEEEEEEEEEEEEEEEEEEEEEEEEEEEEEEEEEEEE/EA/EEEEEE/EEEEEE/EEAEEE/EAEEA\n",
      "@SRR12269911.374754\n",
      "GTTAACCTCACTCCACGTGTGTCTGTGTCCTTAATTTCCTTGGCATGAGGCAACGAATCTCGGGTATTACCCCAGA\n",
      "+\n",
      "AAAAAEEEEEEEEEEEEEEEEEEEEEEEEEEEAEEEEEEEEEEEEEEEEEEEEEAEAEAEAEEEEAEEEEEAEEEE\n",
      "@SRR12269911.158183\n",
      "CTGTAATCCCAGCACTTTGGAAGGCTGAGGTGAGAGGATCACTTGAGCCCAGTAGTTTGAGGCAACATAGTGAGAT\n",
      "+\n",
      "AAAAAEEEEEEEEEEAEEEEEEEEEAEEEEEEEEEEEEEEEEEEEEEEAAEEEEEAAEEEEEEEEEEEEEEEEEEE\n",
      "@SRR12269911.258882\n",
      "ATGTGACTGGAGTGAGCAGGGGAGAGGCAACCAACTCAGGAGTCAGATCCCTGGCCAGACTAAAAGCGAACATTCA\n",
      "+\n",
      "AAAAAEEEEEEEEEEEEEEEEEEEEEEEE/EEEAEEEEEEEEEEEE/EEEEEEEEAEEEEE/EE/EEEEEAEEEE<\n",
      "@SRR12269911.24121\n",
      "GCTCAGAGGCAACTTCCTCTTCCCTTGAACTCCGGATCAGCCTTTCCAGGTGCTTTAGTCGTTCGCCTAGACACGT\n",
      "+\n",
      "AAAAAEEEEEEAEEEAEEEAEEEE<EEEEEEEEE/EAEEEEEEE<<E/EEEEEEEEEEEEE/EEAEEEA/AEAE/6\n"
     ]
    }
   ],
   "source": [
    "my_seq = \"GAGGCAAC\"\n",
    "!fqgrep '{my_seq}' ./demo.fastq"
   ]
  },
  {
   "cell_type": "markdown",
   "id": "710628bc-c4e8-4093-a63b-3a938cee80cc",
   "metadata": {},
   "source": [
    "The ability that offers starts to touch on why you'd want to combine like that.\n",
    "For example, imagine if you had several sequences to search.    \n",
    "Well you can use something like:\n",
    "\n",
    "```\n",
    "!fqgrep --regexp 'GCGATTAA' --regexp 'GACATTAA' ./demo.fastq\n",
    "```\n",
    "\n",
    "But imagine for downstream use, it was important you knew which was derived from each sequence.  \n",
    "So you could do this:"
   ]
  },
  {
   "cell_type": "code",
   "execution_count": 7,
   "id": "acb78541-5c9e-443a-9df6-30ff07ecd900",
   "metadata": {},
   "outputs": [],
   "source": [
    "my_seq1 = \"GCGATTAA\"\n",
    "my_seq2 = \"GACATTAA\"\n",
    "seq_list = [my_seq1,my_seq2]\n",
    "for the_seq in seq_list:\n",
    "    !fqgrep '{the_seq}' ./demo.fastq > {the_seq}_search_results.txt"
   ]
  },
  {
   "cell_type": "markdown",
   "id": "68504801-b01e-4000-a17d-257adbc8e751",
   "metadata": {},
   "source": [
    "Now to look at the results:"
   ]
  },
  {
   "cell_type": "code",
   "execution_count": 8,
   "id": "46d4a148-1286-4b28-90e2-a370b176fac1",
   "metadata": {},
   "outputs": [
    {
     "name": "stdout",
     "output_type": "stream",
     "text": [
      "@SRR12269911.77594\n",
      "ATATCAGGTTGCAGCGGCAGAGAGCCATCCTCTATAAGCGGCTGAAAGTGCCTCCTGCGATTAACCAGTTCACCCA\n",
      "+\n",
      "AAAAAEEEEEEEEEEEEEEEEEEEEEAEEEEEEEEEAEEEEEEEEEEEEEEEEEEEEEEEEEEEEEEEEEEEAEE/\n",
      "@SRR12269911.248887\n",
      "ATATCAGGTTGCAGCGGCAGAGAGCCATCCTCTATAAGCGGCTGAAAGTGCCTCCTGCGATTAACCAGTTCACCCA\n",
      "+\n",
      "AAAAAEEEEEEEEEEEEEAEEEEEEE/EEEEEEEEEEEEEEEEEEEEEEEEEEEEEEEEEEEEEEEEEAEEAEEE<\n"
     ]
    }
   ],
   "source": [
    "!cat GCGATTAA_search_results.txt"
   ]
  },
  {
   "cell_type": "code",
   "execution_count": 9,
   "id": "304672d2-2f12-42d8-b480-19517baf7723",
   "metadata": {},
   "outputs": [
    {
     "name": "stdout",
     "output_type": "stream",
     "text": [
      "@SRR12269911.223267\n",
      "CCCGTACACTGTGCTTGGACAAATACCTGCTAGTGCTGCTTGGTTCACATGCTTGGACATTAAAGATGCATTCTTC\n",
      "+\n",
      "AAAAAEEEEEEEEEAEEE/EEEEE/EEEEEEEEEEEEEEE6EEEEEAEEEEEEEEEEAAEE6E/EEAEEEEEA<E<\n",
      "@SRR12269911.98049\n",
      "CAGAAACTGGTTTGGACTAAGAAAGCCAGAGTGCAGAATCTGGATGAGGTGAAACCGACATTAATAAACCTCCAAG\n",
      "+\n",
      "AAAAAEEEEEEEEEEEEEEEEAEEEEEAEEEEEEEEEEEEEEEEEEEEEEEEEAEEE/EEEEEEEEEEEEEEEEEE\n",
      "@SRR12269911.396878\n",
      "CCTGACATTAAATAAAACTCCAAAAATTAAATTCTGGCCCTCAAACCCCACAACAGGACTTAATTAACCCTGTCTC\n",
      "+\n",
      "AAAAAE6EE6EEEEEEEEEEEEEEEEEEAEEEEEEEEEEEEEAE/EEEEEEEEEEEEEEEEEEEEEEEEEEEEEEA\n",
      "@SRR12269911.373844\n",
      "AGACTTTTCTTTGAAGGATGACTACAGACATTAAATAATCGAAGTAATTTTGGGTGGGGAGAAGAGGCAGATTCAA\n",
      "+\n",
      "AAAAAEEEE/E/EEE/EEEE/EEEEAEEAE/EEEAEEEEEEAEEEAEE/E/AEEEEEAEEAE/AAEEEEAEEE</E\n",
      "@SRR12269911.293306\n",
      "AAATAACCCCGGGCAAGACTTTTCTTTGAAGGATGACTACAGACATTAAATAATCGAAGTAATTTTGGGTGGGGAG\n",
      "+\n",
      "AAAAAEEEEEEEEEEEEEEEEEEEEEEEAEEEEEEEEEEEEEEEEEEEAEEEEEEEEEEEEEEEEEEEEAEEEEEE\n",
      "@SRR12269911.176846\n",
      "GTATTACATAAATAAATTAAATAAAATAACCCCGGGCAAGACTTTTCTTTGAAGGATGACTACAGACATTAAATAA\n",
      "+\n",
      "AAAAAEAEEAEEE6EEEEEEEEEEEEEE6A<<EEE/AEEEEEEEEEEEAEEAEEEEA<EEEA6<EEAEEEEAEEA6\n",
      "@SRR12269911.177060\n",
      "GTTCTGTACAGATATATGACATTAAAAAATAATCCCAAAAACTTCTTCTCTAAGGTTAATAAAAGGTCGGCAGTTT\n",
      "+\n",
      "AAAAAEEEEEEEEEEEEEEEEEEEEEEEEEEEEEEEEEEEEEEEEEEEAEEEEEEEEAEEAEEEEEEEEEEEEEEE\n",
      "@SRR12269911.23735\n",
      "GTACAGATATATGACATTAAAAAATAATCCCAAAAACTTCTTCTCTAAGGTTAATAAAAGGTCGGCAGTTTTGATC\n",
      "+\n",
      "AAAAAEEEEEE6EEEEEEEEE/EEEEEEEEEEEEEEEEEEEEEEEEEEEEEAEEEEEAEEEEEEEEEEEEEEEAEE\n",
      "@SRR12269911.188120\n",
      "AAAAAACAACATGGTAATAGAAGTAATTTAAAATGTTCAAGACATTAAATGCAGGACTGACTCCATATTGCCATTT\n",
      "+\n",
      "AAAAAEEEEEEEEEE6EEAEEEEEAEEEEEEEEEEEEEEEEEEEEEEEEEEEEEEEEEEEEEEEEAEEEEEEEEEA\n",
      "@SRR12269911.254078\n",
      "ATGTTCAAGACATTAAATGCAGGACTGACTCCATATTGCCATTTAATATGCTTTGTATTATAGGATATAAAAACTA\n",
      "+\n",
      "AAAAAEEEEAEEEEEEEEEEEEEEEEEEEEEEEAEEEEEEEEEEEEEEEEEEAEEEEAEAEAEEEEAEEAEEAEEA\n"
     ]
    }
   ],
   "source": [
    "!cat GACATTAA_search_results.txt"
   ]
  },
  {
   "cell_type": "markdown",
   "id": "ec5c044d-e818-4efc-83f6-1e09f5550e50",
   "metadata": {},
   "source": [
    "`GCGATTAA_search_results.txt` only has two and it would have been hard to find if we mixed them in.\n",
    "\n",
    "Of course, we could have just ran the searches in turn; however, imagine instead of two sequences, we had ten to search, and then quickly it becomes apparent how much convenience this offers.\n",
    "\n",
    "Can use regular expressions. The next two cells will show that. The code only differs by the additon of a `?` and the regular expressions options flag:"
   ]
  },
  {
   "cell_type": "code",
   "execution_count": 10,
   "id": "f0583340-f1fc-4adb-a5b0-2bfadd0a0535",
   "metadata": {},
   "outputs": [
    {
     "name": "stdout",
     "output_type": "stream",
     "text": [
      "@SRR12269911.288516\n",
      "AGTCTAGAGTGTTTGCTTTATTCATGTTGTTTATGCGTTAAAATATAAGCATATTGCATACATAAGCATATTTACA\n",
      "+\n",
      "AAAAAAEEEEEEAEEEEEEEEEEEEEEEEEEEEEEAEEEAEEEEEEEEE<EEEEEEEEEEEEEEEE<EEEEEEEE/\n",
      "@SRR12269911.398076\n",
      "AGTCTAGAGTGTTTGCTTTATTCATGTTGTTTATGCGTTAAAATATAAGCATATTGCATACATAAGCATATTTACA\n",
      "+\n",
      "A/A/AAEEEEEAAAEEEEEEEE/E///AA/AEEEEEE/EEAE/EEEE/E<EEEEE/<E/AEEEEEA/EE///<A//\n",
      "@SRR12269911.77594\n",
      "ATATCAGGTTGCAGCGGCAGAGAGCCATCCTCTATAAGCGGCTGAAAGTGCCTCCTGCGATTAACCAGTTCACCCA\n",
      "+\n",
      "AAAAAEEEEEEEEEEEEEEEEEEEEEAEEEEEEEEEAEEEEEEEEEEEEEEEEEEEEEEEEEEEEEEEEEEEAEE/\n",
      "@SRR12269911.248887\n",
      "ATATCAGGTTGCAGCGGCAGAGAGCCATCCTCTATAAGCGGCTGAAAGTGCCTCCTGCGATTAACCAGTTCACCCA\n",
      "+\n",
      "AAAAAEEEEEEEEEEEEEAEEEEEEE/EEEEEEEEEEEEEEEEEEEEEEEEEEEEEEEEEEEEEEEEEAEEAEEE<\n"
     ]
    }
   ],
   "source": [
    "!fqgrep --regexp 'GCGA?TTAA' ./demo.fastq"
   ]
  },
  {
   "cell_type": "code",
   "execution_count": 11,
   "id": "37213b20-8281-407f-b8b2-dc35bed1ee86",
   "metadata": {},
   "outputs": [
    {
     "name": "stdout",
     "output_type": "stream",
     "text": [
      "@SRR12269911.77594\n",
      "ATATCAGGTTGCAGCGGCAGAGAGCCATCCTCTATAAGCGGCTGAAAGTGCCTCCTGCGATTAACCAGTTCACCCA\n",
      "+\n",
      "AAAAAEEEEEEEEEEEEEEEEEEEEEAEEEEEEEEEAEEEEEEEEEEEEEEEEEEEEEEEEEEEEEEEEEEEAEE/\n",
      "@SRR12269911.248887\n",
      "ATATCAGGTTGCAGCGGCAGAGAGCCATCCTCTATAAGCGGCTGAAAGTGCCTCCTGCGATTAACCAGTTCACCCA\n",
      "+\n",
      "AAAAAEEEEEEEEEEEEEAEEEEEEE/EEEEEEEEEEEEEEEEEEEEEEEEEEEEEEEEEEEEEEEEEAEEAEEE<\n"
     ]
    }
   ],
   "source": [
    "!fqgrep 'GCGATTAA' ./demo.fastq"
   ]
  },
  {
   "cell_type": "markdown",
   "id": "fad37795-f206-40d4-9ee8-4c7d7285c576",
   "metadata": {},
   "source": [
    "See the difference?  \n",
    "`--regexp 'GCGA?TTAA'` allows matches to `GCGTTAA` or `GCGATTAA`."
   ]
  },
  {
   "cell_type": "markdown",
   "id": "2586663f-b2cb-48b5-9cf1-f3a8c91a6644",
   "metadata": {},
   "source": [
    "------\n",
    "\n",
    "Enjoy!"
   ]
  }
 ],
 "metadata": {
  "kernelspec": {
   "display_name": "Python 3 (ipykernel)",
   "language": "python",
   "name": "python3"
  },
  "language_info": {
   "codemirror_mode": {
    "name": "ipython",
    "version": 3
   },
   "file_extension": ".py",
   "mimetype": "text/x-python",
   "name": "python",
   "nbconvert_exporter": "python",
   "pygments_lexer": "ipython3",
   "version": "3.10.16"
  }
 },
 "nbformat": 4,
 "nbformat_minor": 5
}
